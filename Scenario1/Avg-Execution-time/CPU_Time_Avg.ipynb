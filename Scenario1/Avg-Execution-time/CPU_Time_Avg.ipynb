{
  "nbformat": 4,
  "nbformat_minor": 0,
  "metadata": {
    "colab": {
      "provenance": [],
      "gpuType": "T4"
    },
    "kernelspec": {
      "name": "python3",
      "display_name": "Python 3"
    },
    "language_info": {
      "name": "python"
    },
    "accelerator": "GPU"
  },
  "cells": [
    {
      "cell_type": "code",
      "execution_count": 1,
      "metadata": {
        "id": "QhNj18oeA3Eo",
        "colab": {
          "base_uri": "https://localhost:8080/"
        },
        "outputId": "3190849a-fc0b-4924-fa29-1aa7ab501a66"
      },
      "outputs": [
        {
          "output_type": "stream",
          "name": "stdout",
          "text": [
            "Matrix size: 100 x 100, average execution time: 0.00047483444213867185 seconds\n",
            "Matrix size: 200 x 200, average execution time: 0.0009851455688476562 seconds\n",
            "Matrix size: 500 x 500, average execution time: 0.011384129524230957 seconds\n",
            "Matrix size: 1000 x 1000, average execution time: 0.07646663188934326 seconds\n",
            "Matrix size: 2000 x 2000, average execution time: 0.5248545169830322 seconds\n"
          ]
        }
      ],
      "source": [
        "import numpy as np\n",
        "import time\n",
        "\n",
        "sizes = [100, 200, 500, 1000, 2000]   # اندازه‌های مختلف ماتریس‌ها\n",
        "\n",
        "for size in sizes:\n",
        "    a_cpu = np.random.rand(size, size)\n",
        "    b_cpu = np.random.rand(size, size)\n",
        "\n",
        "    times = []\n",
        "    for i in range(10):   # اجرای تابع ۱۰ بار برای محاسبه میانگین زمان اجرا\n",
        "        start_time = time.time()\n",
        "        c_cpu = np.dot(a_cpu, b_cpu)\n",
        "        end_time = time.time()\n",
        "\n",
        "        times.append(end_time - start_time)\n",
        "\n",
        "    avg_time = sum(times) / len(times)\n",
        "    print(f\"Matrix size: {size} x {size}, average execution time: {avg_time} seconds\")"
      ]
    }
  ]
}