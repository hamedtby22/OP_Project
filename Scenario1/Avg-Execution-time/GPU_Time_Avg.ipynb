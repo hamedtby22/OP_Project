{
  "nbformat": 4,
  "nbformat_minor": 0,
  "metadata": {
    "colab": {
      "provenance": [],
      "gpuType": "T4"
    },
    "kernelspec": {
      "name": "python3",
      "display_name": "Python 3"
    },
    "language_info": {
      "name": "python"
    },
    "accelerator": "GPU"
  },
  "cells": [
    {
      "cell_type": "code",
      "execution_count": 3,
      "metadata": {
        "id": "QhNj18oeA3Eo",
        "colab": {
          "base_uri": "https://localhost:8080/"
        },
        "outputId": "c4790b03-dba6-4c08-b439-98b35161c270"
      },
      "outputs": [
        {
          "output_type": "stream",
          "name": "stdout",
          "text": [
            "Matrix size: 100 x 100, average execution time: 0.0005041837692260742 seconds\n",
            "Matrix size: 200 x 200, average execution time: 0.0006839752197265625 seconds\n",
            "Matrix size: 500 x 500, average execution time: 0.0037458658218383787 seconds\n",
            "Matrix size: 1000 x 1000, average execution time: 0.020060348510742187 seconds\n",
            "Matrix size: 2000 x 2000, average execution time: 0.06993842124938965 seconds\n"
          ]
        }
      ],
      "source": [
        "import cupy as cp\n",
        "import time\n",
        "\n",
        "sizes = [100, 200, 500, 1000, 2000]   # اندازه‌های مختلف ماتریس‌ها\n",
        "\n",
        "for size in sizes:\n",
        "    a_gpu = cp.random.rand(size, size)\n",
        "    b_gpu = cp.random.rand(size, size)\n",
        "\n",
        "    times = []\n",
        "    for i in range(10):   # اجرای تابع ۱۰ بار برای محاسبه میانگین زمان اجرا\n",
        "        start_time = time.time()\n",
        "        c_gpu = cp.matmul(a_gpu, b_gpu)\n",
        "        cp.cuda.Stream.null.synchronize()   # همگام‌سازی برای انتظار پایان اجرای تابع\n",
        "        end_time = time.time()\n",
        "\n",
        "        times.append(end_time - start_time)\n",
        "\n",
        "    avg_time = sum(times) / len(times)\n",
        "    print(f\"Matrix size: {size} x {size}, average execution time: {avg_time} seconds\")"
      ]
    }
  ]
}